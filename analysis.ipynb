{
 "cells": [
  {
   "cell_type": "code",
   "execution_count": 1,
   "metadata": {},
   "outputs": [
    {
     "name": "stderr",
     "output_type": "stream",
     "text": [
      "\n",
      "Bad key savefig.frameon in file c:\\users\\niels\\appdata\\local\\programs\\python\\python37\\lib\\site-packages\\matplotlib\\mpl-data\\stylelib\\_classic_test.mplstyle, line 421 ('savefig.frameon : True')\n",
      "You probably need to get an updated matplotlibrc file from\n",
      "https://github.com/matplotlib/matplotlib/blob/v3.3.4/matplotlibrc.template\n",
      "or from the matplotlib source distribution\n",
      "\n",
      "Bad key verbose.level in file c:\\users\\niels\\appdata\\local\\programs\\python\\python37\\lib\\site-packages\\matplotlib\\mpl-data\\stylelib\\_classic_test.mplstyle, line 472 ('verbose.level  : silent      # one of silent, helpful, debug, debug-annoying')\n",
      "You probably need to get an updated matplotlibrc file from\n",
      "https://github.com/matplotlib/matplotlib/blob/v3.3.4/matplotlibrc.template\n",
      "or from the matplotlib source distribution\n",
      "\n",
      "Bad key verbose.fileo in file c:\\users\\niels\\appdata\\local\\programs\\python\\python37\\lib\\site-packages\\matplotlib\\mpl-data\\stylelib\\_classic_test.mplstyle, line 473 ('verbose.fileo  : sys.stdout  # a log filename, sys.stdout or sys.stderr')\n",
      "You probably need to get an updated matplotlibrc file from\n",
      "https://github.com/matplotlib/matplotlib/blob/v3.3.4/matplotlibrc.template\n",
      "or from the matplotlib source distribution\n",
      "In c:\\users\\niels\\appdata\\local\\programs\\python\\python37\\lib\\site-packages\\matplotlib\\mpl-data\\stylelib\\_classic_test.mplstyle: \n",
      "The text.latex.preview rcparam was deprecated in Matplotlib 3.3 and will be removed two minor releases later.\n",
      "In c:\\users\\niels\\appdata\\local\\programs\\python\\python37\\lib\\site-packages\\matplotlib\\mpl-data\\stylelib\\_classic_test.mplstyle: \n",
      "The mathtext.fallback_to_cm rcparam was deprecated in Matplotlib 3.3 and will be removed two minor releases later.\n",
      "In c:\\users\\niels\\appdata\\local\\programs\\python\\python37\\lib\\site-packages\\matplotlib\\mpl-data\\stylelib\\_classic_test.mplstyle: Support for setting the 'mathtext.fallback_to_cm' rcParam is deprecated since 3.3 and will be removed two minor releases later; use 'mathtext.fallback : 'cm' instead.\n",
      "In c:\\users\\niels\\appdata\\local\\programs\\python\\python37\\lib\\site-packages\\matplotlib\\mpl-data\\stylelib\\_classic_test.mplstyle: \n",
      "The validate_bool_maybe_none function was deprecated in Matplotlib 3.3 and will be removed two minor releases later.\n",
      "In c:\\users\\niels\\appdata\\local\\programs\\python\\python37\\lib\\site-packages\\matplotlib\\mpl-data\\stylelib\\_classic_test.mplstyle: \n",
      "The savefig.jpeg_quality rcparam was deprecated in Matplotlib 3.3 and will be removed two minor releases later.\n",
      "In c:\\users\\niels\\appdata\\local\\programs\\python\\python37\\lib\\site-packages\\matplotlib\\mpl-data\\stylelib\\_classic_test.mplstyle: \n",
      "The keymap.all_axes rcparam was deprecated in Matplotlib 3.3 and will be removed two minor releases later.\n",
      "In c:\\users\\niels\\appdata\\local\\programs\\python\\python37\\lib\\site-packages\\matplotlib\\mpl-data\\stylelib\\_classic_test.mplstyle: \n",
      "The animation.avconv_path rcparam was deprecated in Matplotlib 3.3 and will be removed two minor releases later.\n",
      "In c:\\users\\niels\\appdata\\local\\programs\\python\\python37\\lib\\site-packages\\matplotlib\\mpl-data\\stylelib\\_classic_test.mplstyle: \n",
      "The animation.avconv_args rcparam was deprecated in Matplotlib 3.3 and will be removed two minor releases later.\n"
     ]
    }
   ],
   "source": [
    "import matplotlib.pyplot as plt\n",
    "import matplotlib.ticker as mtick\n",
    "import seaborn as sns\n",
    "import pandas as pd"
   ]
  },
  {
   "cell_type": "code",
   "execution_count": 2,
   "metadata": {},
   "outputs": [],
   "source": [
    "plt.rcParams['lines.linewidth'] = 2\n",
    "plt.rcParams['lines.markersize'] = 8\n",
    "plt.rcParams['axes.labelsize'] = 14\n",
    "plt.rcParams['axes.titlesize'] = 16\n",
    "plt.rcParams['legend.title_fontsize'] = 14\n",
    "plt.rcParams['legend.fontsize'] = 12"
   ]
  },
  {
   "cell_type": "code",
   "execution_count": 3,
   "metadata": {},
   "outputs": [],
   "source": [
    "pd.set_option('display.max_rows', None)  # display all rows.\n",
    "pd.set_option('display.float_format', '{:.2f}'.format)  # two decimals.\n",
    "\n",
    "plt.style.use('grayscale')\n",
    "\n",
    "%matplotlib inline"
   ]
  },
  {
   "cell_type": "code",
   "execution_count": 4,
   "metadata": {},
   "outputs": [],
   "source": [
    "def get_all_data(method):\n",
    "    data = pd.DataFrame()\n",
    "    \n",
    "    for experiment in range(1, 73):\n",
    "        df = pd.read_csv(f\"analysis/cache/{experiment}-{method}.csv\")\n",
    "        df[\"experiment\"] = experiment\n",
    "        \n",
    "        data = data.append(df, ignore_index=True)\n",
    "\n",
    "    return data.set_index([\"experiment\", \"instance\"])"
   ]
  },
  {
   "cell_type": "code",
   "execution_count": 5,
   "metadata": {},
   "outputs": [
    {
     "data": {
      "text/html": [
       "<div>\n",
       "<style scoped>\n",
       "    .dataframe tbody tr th:only-of-type {\n",
       "        vertical-align: middle;\n",
       "    }\n",
       "\n",
       "    .dataframe tbody tr th {\n",
       "        vertical-align: top;\n",
       "    }\n",
       "\n",
       "    .dataframe thead th {\n",
       "        text-align: right;\n",
       "    }\n",
       "</style>\n",
       "<table border=\"1\" class=\"dataframe\">\n",
       "  <thead>\n",
       "    <tr style=\"text-align: right;\">\n",
       "      <th></th>\n",
       "      <th></th>\n",
       "      <th>objective</th>\n",
       "      <th>instruction (# learners)</th>\n",
       "      <th>self-study (# learners)</th>\n",
       "      <th>activities (#)</th>\n",
       "    </tr>\n",
       "    <tr>\n",
       "      <th>experiment</th>\n",
       "      <th>instance</th>\n",
       "      <th></th>\n",
       "      <th></th>\n",
       "      <th></th>\n",
       "      <th></th>\n",
       "    </tr>\n",
       "  </thead>\n",
       "  <tbody>\n",
       "    <tr>\n",
       "      <th rowspan=\"5\" valign=\"top\">1</th>\n",
       "      <th>1</th>\n",
       "      <td>4774.84</td>\n",
       "      <td>611</td>\n",
       "      <td>189</td>\n",
       "      <td>43</td>\n",
       "    </tr>\n",
       "    <tr>\n",
       "      <th>2</th>\n",
       "      <td>4759.64</td>\n",
       "      <td>606</td>\n",
       "      <td>194</td>\n",
       "      <td>43</td>\n",
       "    </tr>\n",
       "    <tr>\n",
       "      <th>3</th>\n",
       "      <td>4640.12</td>\n",
       "      <td>611</td>\n",
       "      <td>189</td>\n",
       "      <td>43</td>\n",
       "    </tr>\n",
       "    <tr>\n",
       "      <th>4</th>\n",
       "      <td>4680.35</td>\n",
       "      <td>588</td>\n",
       "      <td>212</td>\n",
       "      <td>43</td>\n",
       "    </tr>\n",
       "    <tr>\n",
       "      <th>5</th>\n",
       "      <td>4701.76</td>\n",
       "      <td>611</td>\n",
       "      <td>189</td>\n",
       "      <td>43</td>\n",
       "    </tr>\n",
       "  </tbody>\n",
       "</table>\n",
       "</div>"
      ],
      "text/plain": [
       "                     objective  instruction (# learners)  \\\n",
       "experiment instance                                        \n",
       "1          1           4774.84                       611   \n",
       "           2           4759.64                       606   \n",
       "           3           4640.12                       611   \n",
       "           4           4680.35                       588   \n",
       "           5           4701.76                       611   \n",
       "\n",
       "                     self-study (# learners)  activities (#)  \n",
       "experiment instance                                           \n",
       "1          1                             189              43  \n",
       "           2                             194              43  \n",
       "           3                             189              43  \n",
       "           4                             212              43  \n",
       "           5                             189              43  "
      ]
     },
     "execution_count": 5,
     "metadata": {},
     "output_type": "execute_result"
    }
   ],
   "source": [
    "heuristic = get_all_data(\"heuristic\")\n",
    "heuristic.head()"
   ]
  },
  {
   "cell_type": "code",
   "execution_count": 6,
   "metadata": {},
   "outputs": [
    {
     "data": {
      "text/html": [
       "<div>\n",
       "<style scoped>\n",
       "    .dataframe tbody tr th:only-of-type {\n",
       "        vertical-align: middle;\n",
       "    }\n",
       "\n",
       "    .dataframe tbody tr th {\n",
       "        vertical-align: top;\n",
       "    }\n",
       "\n",
       "    .dataframe thead th {\n",
       "        text-align: right;\n",
       "    }\n",
       "</style>\n",
       "<table border=\"1\" class=\"dataframe\">\n",
       "  <thead>\n",
       "    <tr style=\"text-align: right;\">\n",
       "      <th></th>\n",
       "      <th></th>\n",
       "      <th>objective</th>\n",
       "      <th>instruction (# learners)</th>\n",
       "      <th>self-study (# learners)</th>\n",
       "      <th>activities (#)</th>\n",
       "    </tr>\n",
       "    <tr>\n",
       "      <th>experiment</th>\n",
       "      <th>instance</th>\n",
       "      <th></th>\n",
       "      <th></th>\n",
       "      <th></th>\n",
       "      <th></th>\n",
       "    </tr>\n",
       "  </thead>\n",
       "  <tbody>\n",
       "    <tr>\n",
       "      <th rowspan=\"5\" valign=\"top\">1</th>\n",
       "      <th>1</th>\n",
       "      <td>4777.54</td>\n",
       "      <td>611</td>\n",
       "      <td>189</td>\n",
       "      <td>43</td>\n",
       "    </tr>\n",
       "    <tr>\n",
       "      <th>2</th>\n",
       "      <td>4765.53</td>\n",
       "      <td>608</td>\n",
       "      <td>192</td>\n",
       "      <td>43</td>\n",
       "    </tr>\n",
       "    <tr>\n",
       "      <th>3</th>\n",
       "      <td>4644.67</td>\n",
       "      <td>613</td>\n",
       "      <td>187</td>\n",
       "      <td>43</td>\n",
       "    </tr>\n",
       "    <tr>\n",
       "      <th>4</th>\n",
       "      <td>4690.98</td>\n",
       "      <td>590</td>\n",
       "      <td>210</td>\n",
       "      <td>43</td>\n",
       "    </tr>\n",
       "    <tr>\n",
       "      <th>5</th>\n",
       "      <td>4709.46</td>\n",
       "      <td>616</td>\n",
       "      <td>184</td>\n",
       "      <td>43</td>\n",
       "    </tr>\n",
       "  </tbody>\n",
       "</table>\n",
       "</div>"
      ],
      "text/plain": [
       "                     objective  instruction (# learners)  \\\n",
       "experiment instance                                        \n",
       "1          1           4777.54                       611   \n",
       "           2           4765.53                       608   \n",
       "           3           4644.67                       613   \n",
       "           4           4690.98                       590   \n",
       "           5           4709.46                       616   \n",
       "\n",
       "                     self-study (# learners)  activities (#)  \n",
       "experiment instance                                           \n",
       "1          1                             189              43  \n",
       "           2                             192              43  \n",
       "           3                             187              43  \n",
       "           4                             210              43  \n",
       "           5                             184              43  "
      ]
     },
     "execution_count": 6,
     "metadata": {},
     "output_type": "execute_result"
    }
   ],
   "source": [
    "ilp = get_all_data(\"ilp\")\n",
    "ilp.head()"
   ]
  },
  {
   "cell_type": "markdown",
   "metadata": {},
   "source": [
    "# Objectives"
   ]
  },
  {
   "cell_type": "code",
   "execution_count": 7,
   "metadata": {},
   "outputs": [],
   "source": [
    "objectives = pd.DataFrame(index=heuristic.index)\n",
    "\n",
    "objectives[\"ilp\"] = ilp.objective\n",
    "objectives[\"heuristic\"] = heuristic.objective\n",
    "objectives[\"percentage\"] = 100 * (ilp.objective - heuristic.objective) / heuristic.objective\n",
    "\n",
    "grouped = objectives.groupby(\"experiment\")"
   ]
  },
  {
   "cell_type": "code",
   "execution_count": 8,
   "metadata": {},
   "outputs": [],
   "source": [
    "# Sanity check: the heuristic can never perform better than the optimal\n",
    "# values for each problem instance.\n",
    "assert len(objectives[objectives.ilp < objectives.heuristic]) == 0"
   ]
  },
  {
   "cell_type": "code",
   "execution_count": 9,
   "metadata": {},
   "outputs": [
    {
     "name": "stdout",
     "output_type": "stream",
     "text": [
      "Average difference (%) between heuristic and ILP objectives:\n"
     ]
    },
    {
     "data": {
      "text/plain": [
       "0.6487416879025373"
      ]
     },
     "execution_count": 9,
     "metadata": {},
     "output_type": "execute_result"
    }
   ],
   "source": [
    "print(\"Average difference (%) between heuristic and ILP objectives:\")\n",
    "100 * (ilp.objective.sum() - heuristic.objective.sum()) / heuristic.objective.sum()"
   ]
  },
  {
   "cell_type": "code",
   "execution_count": 10,
   "metadata": {},
   "outputs": [
    {
     "data": {
      "text/plain": [
       "Text(0, 0.5, 'Experiments (#)')"
      ]
     },
     "execution_count": 10,
     "metadata": {},
     "output_type": "execute_result"
    },
    {
     "data": {
      "image/png": "[encoded data removed]",
      "text/plain": [
       "<Figure size 864x432 with 1 Axes>"
      ]
     },
     "metadata": {
      "needs_background": "light"
     },
     "output_type": "display_data"
    }
   ],
   "source": [
    "grouped.percentage.mean().hist(figsize=(12, 6))\n",
    "plt.title(\"Average difference between heuristic and ILP objective results, per experiment\")\n",
    "plt.xlabel(\"Difference (%)\")\n",
    "plt.ylabel(\"Experiments (#)\")"
   ]
  },
  {
   "cell_type": "code",
   "execution_count": 11,
   "metadata": {},
   "outputs": [
    {
     "data": {
      "text/plain": [
       "Text(0, 0.5, 'Experiments (#)')"
      ]
     },
     "execution_count": 11,
     "metadata": {},
     "output_type": "execute_result"
    },
    {
     "data": {
      "image/png": "[encoded data removed]",
      "text/plain": [
       "<Figure size 864x432 with 1 Axes>"
      ]
     },
     "metadata": {
      "needs_background": "light"
     },
     "output_type": "display_data"
    }
   ],
   "source": [
    "grouped.percentage.max().hist(figsize=(12, 6))\n",
    "plt.title(\"Maximum difference between heuristic and ILP objective result of any instance in the experiment, per experiment\")\n",
    "plt.xlabel(\"Difference (%)\")\n",
    "plt.ylabel(\"Experiments (#)\")"
   ]
  },
  {
   "cell_type": "code",
   "execution_count": 12,
   "metadata": {},
   "outputs": [
    {
     "name": "stdout",
     "output_type": "stream",
     "text": [
      "\\begin{longtable}{lrrrrr}\n",
      "\\label{tab:heuristic_performance}\\\\\n",
      "\\toprule\n",
      "{} &     ilp & heuristic & \\multicolumn{3}{l}{percentage} \\\\\n",
      "{} &    mean &      mean &       mean &   min &   max \\\\\n",
      "experiment &         &           &            &       &       \\\\\n",
      "\\midrule\n",
      "\\endhead\n",
      "\\midrule\n",
      "\\multicolumn{6}{r}{{Continued on next page}} \\\\\n",
      "\\midrule\n",
      "\\endfoot\n",
      "\n",
      "\\bottomrule\n",
      "\\endlastfoot\n",
      "1          & 4726.15 &   4719.89 &      0.13\\% & 0.00\\% & 0.32\\% \\\\\n",
      "2          & 4717.15 &   4711.47 &      0.12\\% & 0.01\\% & 0.27\\% \\\\\n",
      "3          & 4720.07 &   4714.77 &      0.11\\% & 0.00\\% & 0.29\\% \\\\\n",
      "4          & 4845.05 &   4835.82 &      0.19\\% & 0.05\\% & 0.32\\% \\\\\n",
      "5          & 4853.04 &   4843.85 &      0.19\\% & 0.07\\% & 0.36\\% \\\\\n",
      "6          & 4800.44 &   4788.20 &      0.26\\% & 0.09\\% & 0.48\\% \\\\\n",
      "7          & 9773.15 &   9765.84 &      0.07\\% & 0.01\\% & 0.18\\% \\\\\n",
      "8          & 9751.89 &   9745.08 &      0.07\\% & 0.01\\% & 0.19\\% \\\\\n",
      "9          & 9751.20 &   9742.71 &      0.09\\% & 0.01\\% & 0.19\\% \\\\\n",
      "10         & 9799.91 &   9741.24 &      0.60\\% & 0.46\\% & 0.73\\% \\\\\n",
      "11         & 9781.64 &   9724.06 &      0.59\\% & 0.48\\% & 0.76\\% \\\\\n",
      "12         & 9702.68 &   9639.59 &      0.65\\% & 0.49\\% & 0.84\\% \\\\\n",
      "13         & 4557.62 &   4544.29 &      0.29\\% & 0.05\\% & 0.68\\% \\\\\n",
      "14         & 4569.58 &   4556.80 &      0.28\\% & 0.02\\% & 0.72\\% \\\\\n",
      "15         & 4537.90 &   4523.63 &      0.32\\% & 0.05\\% & 0.82\\% \\\\\n",
      "16         & 4743.58 &   4712.62 &      0.66\\% & 0.21\\% & 1.18\\% \\\\\n",
      "17         & 4761.14 &   4729.02 &      0.68\\% & 0.29\\% & 1.17\\% \\\\\n",
      "18         & 4670.70 &   4619.93 &      1.10\\% & 0.52\\% & 1.63\\% \\\\\n",
      "19         & 9673.51 &   9651.82 &      0.23\\% & 0.02\\% & 0.53\\% \\\\\n",
      "20         & 9662.84 &   9642.60 &      0.21\\% & 0.04\\% & 0.47\\% \\\\\n",
      "21         & 9630.89 &   9608.72 &      0.23\\% & 0.02\\% & 0.51\\% \\\\\n",
      "22         & 9771.77 &   9595.74 &      1.84\\% & 1.42\\% & 2.20\\% \\\\\n",
      "23         & 9739.28 &   9560.78 &      1.87\\% & 1.43\\% & 2.53\\% \\\\\n",
      "24         & 9642.64 &   9430.19 &      2.25\\% & 1.76\\% & 2.70\\% \\\\\n",
      "25         & 4409.57 &   4398.93 &      0.24\\% & 0.09\\% & 0.42\\% \\\\\n",
      "26         & 4398.22 &   4387.15 &      0.25\\% & 0.11\\% & 0.49\\% \\\\\n",
      "27         & 4400.47 &   4389.51 &      0.25\\% & 0.09\\% & 0.39\\% \\\\\n",
      "28         & 4544.73 &   4524.52 &      0.45\\% & 0.19\\% & 0.75\\% \\\\\n",
      "29         & 4547.98 &   4527.71 &      0.45\\% & 0.11\\% & 0.83\\% \\\\\n",
      "30         & 4504.39 &   4492.25 &      0.27\\% & 0.07\\% & 0.62\\% \\\\\n",
      "31         & 9153.99 &   9127.46 &      0.29\\% & 0.17\\% & 0.48\\% \\\\\n",
      "32         & 9127.23 &   9099.29 &      0.31\\% & 0.15\\% & 0.51\\% \\\\\n",
      "33         & 9112.87 &   9085.05 &      0.31\\% & 0.16\\% & 0.50\\% \\\\\n",
      "34         & 9455.79 &   9413.42 &      0.45\\% & 0.22\\% & 0.87\\% \\\\\n",
      "35         & 9443.48 &   9398.63 &      0.48\\% & 0.21\\% & 0.76\\% \\\\\n",
      "36         & 9341.97 &   9303.68 &      0.41\\% & 0.07\\% & 0.72\\% \\\\\n",
      "37         & 3963.17 &   3928.56 &      0.88\\% & 0.44\\% & 1.42\\% \\\\\n",
      "38         & 3954.24 &   3917.33 &      0.94\\% & 0.50\\% & 1.45\\% \\\\\n",
      "39         & 3947.75 &   3914.60 &      0.85\\% & 0.44\\% & 1.23\\% \\\\\n",
      "40         & 4255.92 &   4194.81 &      1.46\\% & 0.71\\% & 2.13\\% \\\\\n",
      "41         & 4211.79 &   4174.35 &      0.90\\% & 0.28\\% & 1.52\\% \\\\\n",
      "42         & 4114.91 &   4085.60 &      0.72\\% & 0.29\\% & 1.35\\% \\\\\n",
      "43         & 8609.72 &   8559.86 &      0.58\\% & 0.22\\% & 1.14\\% \\\\\n",
      "44         & 8605.02 &   8553.13 &      0.61\\% & 0.29\\% & 1.10\\% \\\\\n",
      "45         & 8594.60 &   8539.59 &      0.64\\% & 0.24\\% & 1.03\\% \\\\\n",
      "46         & 9069.02 &   8983.57 &      0.95\\% & 0.48\\% & 1.52\\% \\\\\n",
      "47         & 9067.69 &   8984.53 &      0.93\\% & 0.42\\% & 1.54\\% \\\\\n",
      "48         & 8888.77 &   8812.71 &      0.86\\% & 0.42\\% & 1.49\\% \\\\\n",
      "49         & 4322.94 &   4312.65 &      0.22\\% & 0.06\\% & 0.44\\% \\\\\n",
      "50         & 4328.62 &   4318.72 &      0.23\\% & 0.04\\% & 0.50\\% \\\\\n",
      "51         & 4326.49 &   4315.83 &      0.25\\% & 0.05\\% & 0.52\\% \\\\\n",
      "52         & 4451.13 &   4395.11 &      1.27\\% & 0.88\\% & 1.87\\% \\\\\n",
      "53         & 4434.22 &   4376.87 &      1.31\\% & 0.80\\% & 2.01\\% \\\\\n",
      "54         & 4389.95 &   4346.81 &      0.99\\% & 0.51\\% & 1.79\\% \\\\\n",
      "55         & 8838.41 &   8813.85 &      0.28\\% & 0.18\\% & 0.41\\% \\\\\n",
      "56         & 8858.13 &   8833.72 &      0.28\\% & 0.14\\% & 0.42\\% \\\\\n",
      "57         & 8834.76 &   8811.25 &      0.27\\% & 0.11\\% & 0.42\\% \\\\\n",
      "58         & 9180.60 &   9105.19 &      0.83\\% & 0.47\\% & 1.28\\% \\\\\n",
      "59         & 9174.94 &   9094.01 &      0.89\\% & 0.54\\% & 1.34\\% \\\\\n",
      "60         & 9093.40 &   9044.51 &      0.54\\% & 0.26\\% & 0.90\\% \\\\\n",
      "61         & 3750.75 &   3726.87 &      0.64\\% & 0.28\\% & 1.09\\% \\\\\n",
      "62         & 3759.52 &   3734.23 &      0.68\\% & 0.25\\% & 1.07\\% \\\\\n",
      "63         & 3745.43 &   3719.66 &      0.69\\% & 0.39\\% & 1.14\\% \\\\\n",
      "64         & 4000.23 &   3949.37 &      1.29\\% & 0.46\\% & 1.98\\% \\\\\n",
      "65         & 3995.64 &   3945.77 &      1.27\\% & 0.71\\% & 2.04\\% \\\\\n",
      "66         & 3935.48 &   3898.15 &      0.96\\% & 0.42\\% & 1.64\\% \\\\\n",
      "67         & 8015.67 &   7944.86 &      0.89\\% & 0.48\\% & 1.32\\% \\\\\n",
      "68         & 8013.03 &   7941.45 &      0.90\\% & 0.58\\% & 1.31\\% \\\\\n",
      "69         & 7989.03 &   7918.07 &      0.90\\% & 0.54\\% & 1.31\\% \\\\\n",
      "70         & 8590.64 &   8472.15 &      1.40\\% & 0.66\\% & 2.10\\% \\\\\n",
      "71         & 8551.39 &   8429.05 &      1.45\\% & 0.73\\% & 2.12\\% \\\\\n",
      "72         & 8379.13 &   8298.87 &      0.97\\% & 0.45\\% & 1.43\\% \\\\\n",
      "\\end{longtable}\n",
      "\n"
     ]
    }
   ],
   "source": [
    "# This is used for the results table in the paper.\n",
    "aggregates = grouped.aggregate({\"ilp\": \"mean\", \"heuristic\": \"mean\", \"percentage\": [\"mean\", \"min\", \"max\"]})\n",
    "formatters = {(\"percentage\", agg): \"{:.2f}%\".format for agg in [\"mean\", \"min\", \"max\"]}\n",
    "\n",
    "# For in the appendix\n",
    "print(aggregates.to_latex(longtable=True, label=\"tab:heuristic_performance\", formatters=formatters))"
   ]
  },
  {
   "cell_type": "code",
   "execution_count": 13,
   "metadata": {},
   "outputs": [
    {
     "data": {
      "text/html": [
       "<div>\n",
       "<style scoped>\n",
       "    .dataframe tbody tr th:only-of-type {\n",
       "        vertical-align: middle;\n",
       "    }\n",
       "\n",
       "    .dataframe tbody tr th {\n",
       "        vertical-align: top;\n",
       "    }\n",
       "\n",
       "    .dataframe thead th {\n",
       "        text-align: right;\n",
       "    }\n",
       "</style>\n",
       "<table border=\"1\" class=\"dataframe\">\n",
       "  <thead>\n",
       "    <tr style=\"text-align: right;\">\n",
       "      <th></th>\n",
       "      <th>experiment</th>\n",
       "      <th>instance</th>\n",
       "      <th>ilp</th>\n",
       "      <th>heuristic</th>\n",
       "      <th>percentage</th>\n",
       "    </tr>\n",
       "  </thead>\n",
       "  <tbody>\n",
       "    <tr>\n",
       "      <th>0</th>\n",
       "      <td>1</td>\n",
       "      <td>1</td>\n",
       "      <td>4777.54</td>\n",
       "      <td>4774.84</td>\n",
       "      <td>0.06</td>\n",
       "    </tr>\n",
       "    <tr>\n",
       "      <th>1</th>\n",
       "      <td>1</td>\n",
       "      <td>2</td>\n",
       "      <td>4765.53</td>\n",
       "      <td>4759.64</td>\n",
       "      <td>0.12</td>\n",
       "    </tr>\n",
       "    <tr>\n",
       "      <th>2</th>\n",
       "      <td>1</td>\n",
       "      <td>3</td>\n",
       "      <td>4644.67</td>\n",
       "      <td>4640.12</td>\n",
       "      <td>0.10</td>\n",
       "    </tr>\n",
       "    <tr>\n",
       "      <th>3</th>\n",
       "      <td>1</td>\n",
       "      <td>4</td>\n",
       "      <td>4690.98</td>\n",
       "      <td>4680.35</td>\n",
       "      <td>0.23</td>\n",
       "    </tr>\n",
       "    <tr>\n",
       "      <th>4</th>\n",
       "      <td>1</td>\n",
       "      <td>5</td>\n",
       "      <td>4709.46</td>\n",
       "      <td>4701.76</td>\n",
       "      <td>0.16</td>\n",
       "    </tr>\n",
       "  </tbody>\n",
       "</table>\n",
       "</div>"
      ],
      "text/plain": [
       "   experiment  instance     ilp  heuristic  percentage\n",
       "0           1         1 4777.54    4774.84        0.06\n",
       "1           1         2 4765.53    4759.64        0.12\n",
       "2           1         3 4644.67    4640.12        0.10\n",
       "3           1         4 4690.98    4680.35        0.23\n",
       "4           1         5 4709.46    4701.76        0.16"
      ]
     },
     "execution_count": 13,
     "metadata": {},
     "output_type": "execute_result"
    }
   ],
   "source": [
    "pct = objectives.reset_index()\n",
    "pct.head()"
   ]
  },
  {
   "cell_type": "code",
   "execution_count": 28,
   "metadata": {},
   "outputs": [
    {
     "data": {
      "image/png": "[encoded data removed]",
      "text/plain": [
       "<Figure size 1008x432 with 1 Axes>"
      ]
     },
     "metadata": {
      "needs_background": "light"
     },
     "output_type": "display_data"
    }
   ],
   "source": [
    "_, ax = plt.subplots(figsize=(14, 6))\n",
    "\n",
    "sns.lineplot(data=pct, x='experiment', y='percentage', ax=ax)\n",
    "\n",
    "lo = pct.groupby(pct.experiment).min().percentage\n",
    "hi = pct.groupby(pct.experiment).max().percentage\n",
    "\n",
    "ax.fill_between(pct.experiment.unique(), lo, hi, color='lightgrey')\n",
    "\n",
    "ax.yaxis.set_major_formatter(mtick.PercentFormatter(decimals=1))\n",
    "\n",
    "ax.set_ylim([0, 2.75])\n",
    "ax.set_xlim([1, 72])\n",
    "\n",
    "for spine in ['right', 'top']:\n",
    "    ax.spines[spine].set_visible(False)\n",
    "\n",
    "ax.set_xlabel(\"Experiment (#)\")\n",
    "ax.set_ylabel(\"Gap\", labelpad=10)\n",
    "\n",
    "plt.tight_layout()\n",
    "plt.savefig(\"out/gaps.pdf\", bbox_inches='tight');"
   ]
  },
  {
   "cell_type": "markdown",
   "metadata": {},
   "source": [
    "# Experimental results"
   ]
  },
  {
   "cell_type": "code",
   "execution_count": 15,
   "metadata": {},
   "outputs": [],
   "source": [
    "width = 0.85\n",
    "ylim = [-.55, 1.45]\n",
    "repeat = 2"
   ]
  },
  {
   "cell_type": "code",
   "execution_count": 16,
   "metadata": {},
   "outputs": [],
   "source": [
    "experiments = pd.read_excel(\"experiments/experiments.xlsx\")\n",
    "experiments.set_index(\"experiment\", inplace=True)\n",
    "\n",
    "data = ilp.join(experiments)\n",
    "data.head()\n",
    "\n",
    "data[\"self-study (% learners)\"] = data[\"self-study (# learners)\"] \n",
    "data.loc[data.learners == 800, \"self-study (% learners)\"] /= 8\n",
    "data.loc[data.learners == 1600, \"self-study (% learners)\"] /= 16"
   ]
  },
  {
   "cell_type": "code",
   "execution_count": 17,
   "metadata": {},
   "outputs": [
    {
     "data": {
      "image/png": "[encoded data removed]",
      "text/plain": [
       "<Figure size 504x288 with 1 Axes>"
      ]
     },
     "metadata": {
      "needs_background": "light"
     },
     "output_type": "display_data"
    }
   ],
   "source": [
    "grouped = data.groupby([\"learners\", \"progress\"])\n",
    "ax = grouped[\"self-study (% learners)\"].mean().unstack(1).plot.barh(yticks=[0, 1, 2],\n",
    "                                                                    figsize=(7, 4), \n",
    "                                                                    width=width,\n",
    "                                                                    edgecolor='black',\n",
    "                                                                    facecolor='white')\n",
    "\n",
    "ax.xaxis.set_major_formatter(mtick.PercentFormatter(decimals=0))\n",
    "\n",
    "ax.set_xlabel(\"Learners in self-study\")\n",
    "ax.set_ylabel(\"School size\")\n",
    "ax.set_yticklabels([\"M\", \"L\"])\n",
    "\n",
    "for spine in ['right', 'left', 'top']:\n",
    "    ax.spines[spine].set_visible(False)\n",
    "\n",
    "for bar, hatch in zip(ax.patches, ['', '', '//', '//', 'x', 'x']):\n",
    "    bar.set_hatch(hatch * repeat)\n",
    "    \n",
    "ax.legend(title=\"Demand spread ($\\\\sigma$)\", frameon=False)\n",
    "ax.set_ylim(ylim)\n",
    "ax.set_xlim([0, 73])\n",
    "\n",
    "plt.tight_layout()\n",
    "plt.savefig(\"out/progress.pdf\", bbox_inches='tight');"
   ]
  },
  {
   "cell_type": "code",
   "execution_count": 18,
   "metadata": {},
   "outputs": [
    {
     "name": "stdout",
     "output_type": "stream",
     "text": [
      "learners  progress\n",
      "800       0          15.95\n",
      "          1          49.48\n",
      "          2          62.50\n",
      "1600      0           5.30\n",
      "          1          28.90\n",
      "          2          45.50\n",
      "Name: self-study (% learners), dtype: float64\n",
      "learners  progress\n",
      "800       0          127.63\n",
      "          1          395.81\n",
      "          2          500.02\n",
      "1600      0           84.76\n",
      "          1          462.38\n",
      "          2          728.04\n",
      "Name: self-study (# learners), dtype: float64\n"
     ]
    }
   ],
   "source": [
    "print(grouped[\"self-study (% learners)\"].mean())\n",
    "print(grouped[\"self-study (# learners)\"].mean())"
   ]
  },
  {
   "cell_type": "code",
   "execution_count": 19,
   "metadata": {},
   "outputs": [
    {
     "data": {
      "image/png": "[encoded data removed]",
      "text/plain": [
       "<Figure size 504x288 with 1 Axes>"
      ]
     },
     "metadata": {
      "needs_background": "light"
     },
     "output_type": "display_data"
    }
   ],
   "source": [
    "grouped = data.groupby([\"learners\", \"penalty\"])\n",
    "ax = grouped[\"self-study (% learners)\"].mean().unstack(1).plot.barh(figsize=(7, 4), \n",
    "                                                                    width=width,\n",
    "                                                                    edgecolor='black',\n",
    "                                                                    facecolor='white')\n",
    "\n",
    "ax.xaxis.set_major_formatter(mtick.PercentFormatter(decimals=0))\n",
    "\n",
    "ax.set_xlabel(\"Learners in self-study\")\n",
    "ax.set_ylabel(\"School size\")\n",
    "ax.set_yticklabels([\"M\", \"L\"])\n",
    "\n",
    "for spine in ['right', 'left', 'top']:\n",
    "    ax.spines[spine].set_visible(False)\n",
    "\n",
    "for bar, hatch in zip(ax.patches, ['', '', r'//', r'//']):\n",
    "    bar.set_hatch(hatch * repeat)\n",
    "\n",
    "ax.legend(title=\"Self-study penalty ($w$)\", frameon=False)\n",
    "ax.set_ylim(ylim)\n",
    "\n",
    "plt.tight_layout()\n",
    "plt.savefig(\"out/penalty.pdf\", bbox_inches='tight');"
   ]
  },
  {
   "cell_type": "code",
   "execution_count": 20,
   "metadata": {},
   "outputs": [
    {
     "name": "stdout",
     "output_type": "stream",
     "text": [
      "learners  penalty\n",
      "800       1         47.55\n",
      "          2         37.73\n",
      "1600      1         30.76\n",
      "          2         22.37\n",
      "Name: self-study (% learners), dtype: float64\n",
      "learners  penalty\n",
      "800       1         380.43\n",
      "          2         301.82\n",
      "1600      1         492.20\n",
      "          2         357.92\n",
      "Name: self-study (# learners), dtype: float64\n"
     ]
    }
   ],
   "source": [
    "print(grouped[\"self-study (% learners)\"].mean())\n",
    "print(grouped[\"self-study (# learners)\"].mean())"
   ]
  },
  {
   "cell_type": "code",
   "execution_count": 21,
   "metadata": {},
   "outputs": [
    {
     "data": {
      "image/png": "[encoded data removed]",
      "text/plain": [
       "<Figure size 504x288 with 1 Axes>"
      ]
     },
     "metadata": {
      "needs_background": "light"
     },
     "output_type": "display_data"
    }
   ],
   "source": [
    "grouped = data.groupby([\"learners\", \"first_degree\"])\n",
    "ax = grouped[\"self-study (% learners)\"].mean().unstack(1).plot.barh(figsize=(7, 4),\n",
    "                                                                    width=width,\n",
    "                                                                    edgecolor='black',\n",
    "                                                                    facecolor='white')\n",
    "\n",
    "ax.xaxis.set_major_formatter(mtick.PercentFormatter(decimals=0))\n",
    "\n",
    "ax.set_xlabel(\"Learners in self-study\")\n",
    "ax.set_ylabel(\"School size\")\n",
    "ax.set_yticklabels([\"M\", \"L\"])\n",
    "\n",
    "for spine in ['right', 'left', 'top']:\n",
    "    ax.spines[spine].set_visible(False)\n",
    "\n",
    "    \n",
    "for bar, hatch in zip(ax.patches, ['', '', '//', '//', 'x', 'x']):\n",
    "    bar.set_hatch(hatch * repeat)\n",
    "\n",
    "ax.legend([\"(0.4; 0.4; 0.2)\", \"(0.5; 0.5; 0)\", \"(1; 0; 0)\"], title=\"Teacher distribution\", frameon=False)\n",
    "ax.set_ylim(ylim)\n",
    "\n",
    "plt.tight_layout()\n",
    "plt.savefig(\"out/teacher_distribution.pdf\", bbox_inches='tight');"
   ]
  },
  {
   "cell_type": "code",
   "execution_count": 22,
   "metadata": {},
   "outputs": [
    {
     "name": "stdout",
     "output_type": "stream",
     "text": [
      "learners  first_degree\n",
      "800       0.40           44.65\n",
      "          0.50           41.95\n",
      "          1.00           41.32\n",
      "1600      0.40           28.50\n",
      "          0.50           25.64\n",
      "          1.00           25.56\n",
      "Name: self-study (% learners), dtype: float64\n",
      "learners  first_degree\n",
      "800       0.40           357.18\n",
      "          0.50           335.57\n",
      "          1.00           330.58\n",
      "1600      0.40           455.99\n",
      "          0.50           410.24\n",
      "          1.00           408.96\n",
      "Name: self-study (# learners), dtype: float64\n"
     ]
    }
   ],
   "source": [
    "print(grouped[\"self-study (% learners)\"].mean())\n",
    "print(grouped[\"self-study (# learners)\"].mean())"
   ]
  },
  {
   "cell_type": "code",
   "execution_count": 23,
   "metadata": {},
   "outputs": [
    {
     "data": {
      "image/png": "[encoded data removed]",
      "text/plain": [
       "<Figure size 504x288 with 1 Axes>"
      ]
     },
     "metadata": {
      "needs_background": "light"
     },
     "output_type": "display_data"
    }
   ],
   "source": [
    "grouped = data.groupby([\"learners\", \"instruction_size\"])\n",
    "ax = grouped[\"self-study (% learners)\"].mean().unstack(1).plot.barh(figsize=(7, 4),\n",
    "                                                                    width=width,\n",
    "                                                                    edgecolor='black',\n",
    "                                                                    facecolor='white')\n",
    "\n",
    "ax.xaxis.set_major_formatter(mtick.PercentFormatter(decimals=0))\n",
    "\n",
    "ax.set_xlabel(\"Learners in self-study\")\n",
    "ax.set_ylabel(\"School size\")\n",
    "ax.set_yticklabels([\"M\", \"L\"])\n",
    "\n",
    "for spine in ['right', 'left', 'top']:\n",
    "    ax.spines[spine].set_visible(False)\n",
    "    \n",
    "for bar, hatch in zip(ax.patches, ['', '', '//', '//']):\n",
    "    bar.set_hatch(hatch * repeat)\n",
    "\n",
    "ax.legend([\"Yes\", \"No\"], title=\"Split classrooms?\", frameon=False)\n",
    "ax.set_ylim(ylim)\n",
    "\n",
    "plt.tight_layout()\n",
    "plt.savefig(\"out/split_classroom.pdf\", bbox_inches='tight');"
   ]
  },
  {
   "cell_type": "code",
   "execution_count": 24,
   "metadata": {},
   "outputs": [
    {
     "name": "stdout",
     "output_type": "stream",
     "text": [
      "learners  instruction_size\n",
      "800       16                 36.34\n",
      "          32                 48.94\n",
      "1600      16                 21.67\n",
      "          32                 31.46\n",
      "Name: self-study (% learners), dtype: float64\n",
      "learners  instruction_size\n",
      "800       16                 290.74\n",
      "          32                 391.52\n",
      "1600      16                 346.79\n",
      "          32                 503.33\n",
      "Name: self-study (# learners), dtype: float64\n"
     ]
    }
   ],
   "source": [
    "print(grouped[\"self-study (% learners)\"].mean())\n",
    "print(grouped[\"self-study (# learners)\"].mean())"
   ]
  },
  {
   "cell_type": "code",
   "execution_count": null,
   "metadata": {},
   "outputs": [],
   "source": []
  }
 ],
 "metadata": {
  "kernelspec": {
   "display_name": "Python 3",
   "language": "python",
   "name": "python3"
  },
  "language_info": {
   "codemirror_mode": {
    "name": "ipython",
    "version": 3
   },
   "file_extension": ".py",
   "mimetype": "text/x-python",
   "name": "python",
   "nbconvert_exporter": "python",
   "pygments_lexer": "ipython3",
   "version": "3.7.1"
  }
 },
 "nbformat": 4,
 "nbformat_minor": 2
}
